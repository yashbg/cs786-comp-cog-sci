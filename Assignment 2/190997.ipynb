{
 "cells": [
  {
   "cell_type": "markdown",
   "id": "59e7c7b8",
   "metadata": {},
   "source": [
    "# Assignment 2\n",
    "\\- Yash Gupta (190997)"
   ]
  },
  {
   "cell_type": "markdown",
   "id": "secure-barbados",
   "metadata": {},
   "source": [
    "### Q1. (33 points)\n",
    "Gabor filters are renowned for their functional equivalence to simple orientation-specific cells in primary visual cortex. I want you to design complex cells that can recognize  \n",
    "(a) triangles and  \n",
    "(b) squares  \n",
    "using a bank of orientation-selective 2D Gabor filters. "
   ]
  },
  {
   "cell_type": "markdown",
   "metadata": {},
   "source": [
    "Let the base of the triangle and the square be horizontal and the triangle be an isosceles right-angled triangle with the top angle as the right angle. We can design complex cells for them without loss of generality. "
   ]
  },
  {
   "cell_type": "code",
   "execution_count": 51,
   "metadata": {},
   "outputs": [],
   "source": [
    "import numpy as np\n",
    "import matplotlib.pyplot as plt\n",
    "import cv2\n",
    "import time"
   ]
  },
  {
   "cell_type": "code",
   "execution_count": 78,
   "metadata": {},
   "outputs": [],
   "source": [
    "tri_img = cv2.imread('triangle.jpg')\n",
    "sq_img = cv2.imread('square.jpg')\n",
    "blank_img = cv2.imread('blank.jpg')"
   ]
  },
  {
   "cell_type": "code",
   "execution_count": 79,
   "metadata": {},
   "outputs": [
    {
     "data": {
      "text/plain": [
       "<matplotlib.image.AxesImage at 0x7f50e2afa3d0>"
      ]
     },
     "execution_count": 79,
     "metadata": {},
     "output_type": "execute_result"
    },
    {
     "data": {
      "image/png": "[encoded data removed]",
      "text/plain": [
       "<Figure size 432x288 with 1 Axes>"
      ]
     },
     "metadata": {
      "needs_background": "light"
     },
     "output_type": "display_data"
    }
   ],
   "source": [
    "plt.imshow(tri_img)"
   ]
  },
  {
   "cell_type": "code",
   "execution_count": 80,
   "metadata": {},
   "outputs": [
    {
     "data": {
      "text/plain": [
       "<matplotlib.image.AxesImage at 0x7f50e285ffa0>"
      ]
     },
     "execution_count": 80,
     "metadata": {},
     "output_type": "execute_result"
    },
    {
     "data": {
      "image/png": "[encoded data removed]",
      "text/plain": [
       "<Figure size 432x288 with 1 Axes>"
      ]
     },
     "metadata": {
      "needs_background": "light"
     },
     "output_type": "display_data"
    }
   ],
   "source": [
    "plt.imshow(sq_img)"
   ]
  },
  {
   "cell_type": "code",
   "execution_count": 81,
   "metadata": {},
   "outputs": [
    {
     "data": {
      "text/plain": [
       "<matplotlib.image.AxesImage at 0x7f50e28385b0>"
      ]
     },
     "execution_count": 81,
     "metadata": {},
     "output_type": "execute_result"
    },
    {
     "data": {
      "image/png": "[encoded data removed]",
      "text/plain": [
       "<Figure size 432x288 with 1 Axes>"
      ]
     },
     "metadata": {
      "needs_background": "light"
     },
     "output_type": "display_data"
    }
   ],
   "source": [
    "plt.imshow(blank_img)"
   ]
  },
  {
   "cell_type": "code",
   "execution_count": 82,
   "metadata": {},
   "outputs": [],
   "source": [
    "# def find_corners(img):\n",
    "#     corners = []\n",
    "#     contours, _ =  cv2.findContours(img, cv2.RETR_TREE, cv2.CHAIN_APPROX_SIMPLE)\n",
    "#     for i in range(len(contours)):\n",
    "#         corners.append(np.mean(contours[i].reshape(-1, 2), axis=0))\n",
    "#     return corners\n",
    "\n",
    "def get_triangle_corners(img, sigma):\n",
    "    kernel = np.ones((5, 5), dtype=np.uint8)\n",
    "\n",
    "    gabor_left = cv2.getGaborKernel((31, 31), sigma, np.pi / 4, 2, 0.5, 0, ktype=cv2.CV_32F)\n",
    "    img_left = cv2.filter2D(img, cv2.CV_8UC3, gabor_left)\n",
    "    img_left = cv2.dilate(img_left, kernel, iterations=2)\n",
    "    img_left = cv2.erode(img_left, kernel, iterations=2)\n",
    "    blur = cv2.GaussianBlur(img_left, (5, 5), 0)\n",
    "    _, thresh_left = cv2.threshold(blur, 180, 255, cv2.THRESH_BINARY)\n",
    "\n",
    "    gabor_right = cv2.getGaborKernel((31, 31), sigma, 3 * np.pi / 4, 2, 0.5, 0, ktype=cv2.CV_32F)\n",
    "    img_right = cv2.filter2D(img, cv2.CV_8UC3, gabor_right)\n",
    "    img_right = cv2.dilate(img_right, kernel, iterations=2)\n",
    "    img_right = cv2.erode(img_right, kernel, iterations=2)\n",
    "    blur = cv2.GaussianBlur(img_right, (5, 5), 0)\n",
    "    _, thresh_right = cv2.threshold(blur, 180, 255, cv2.THRESH_BINARY)\n",
    "\n",
    "    gabor_base = cv2.getGaborKernel((31, 31), sigma, np.pi / 2, 2, 0.5, 0, ktype=cv2.CV_32F)\n",
    "    img_base = cv2.filter2D(img, cv2.CV_8UC3, gabor_base)\n",
    "    img_base = cv2.dilate(img_base, kernel, iterations=2)\n",
    "    img_base = cv2.erode(img_base, kernel, iterations=2)\n",
    "    blur = cv2.GaussianBlur(img_base, (5, 5), 0)\n",
    "    _, thresh_base = cv2.threshold(blur, 180, 255, cv2.THRESH_BINARY)\n",
    "\n",
    "    corner_left = np.uint8(thresh_left * thresh_base) * 255\n",
    "    corner_right = np.uint8(thresh_right * thresh_base) * 255\n",
    "    corner_top = np.uint8(thresh_left * thresh_right) * 255\n",
    "\n",
    "    return [corner_left, corner_right, corner_top]\n",
    "\n",
    "def get_square_corners(img, sigma):\n",
    "    kernel = np.ones((5, 5), dtype=np.uint8)\n",
    "\n",
    "    gabor_horizontal = cv2.getGaborKernel((31, 31), sigma, 0, 2, 0.5, 0, ktype=cv2.CV_32F)\n",
    "    img_horizontal = cv2.filter2D(img, cv2.CV_8UC3, gabor_horizontal)\n",
    "    img_horizontal = cv2.dilate(img_horizontal, kernel, iterations=2)\n",
    "    img_horizontal = cv2.erode(img_horizontal, kernel, iterations=2)\n",
    "    blur = cv2.GaussianBlur(img_horizontal, (5, 5), 0)\n",
    "    _, thresh_horizontal = cv2.threshold(blur, 180, 255, cv2.THRESH_BINARY)\n",
    "\n",
    "    gabor_vertical = cv2.getGaborKernel((31, 31), sigma, np.pi / 2, 2, 0.5, 0, ktype=cv2.CV_32F)\n",
    "    img_vertical = cv2.filter2D(img, cv2.CV_8UC3, gabor_vertical)\n",
    "    img_vertical = cv2.dilate(img_vertical, kernel, iterations=2)\n",
    "    img_vertical = cv2.erode(img_vertical, kernel, iterations=2)\n",
    "    blur = cv2.GaussianBlur(img_vertical, (5, 5), 0)\n",
    "    _, thresh_vertical = cv2.threshold(blur, 180, 255, cv2.THRESH_BINARY)\n",
    "\n",
    "    corners = np.uint8(thresh_horizontal * thresh_vertical) * 255\n",
    "    return corners\n",
    "\n",
    "def check_triangle(img):\n",
    "    corners = get_triangle_corners(img, 2)\n",
    "    for i in range(3):\n",
    "        corner = np.asarray(np.nonzero(corners[i]))\n",
    "        if corner.shape[1] == 0:\n",
    "            return False\n",
    "    return True\n",
    "\n",
    "def check_square(img):\n",
    "    # corners_img = get_square_corners(img, 2)\n",
    "    # corners = find_corners(corners_img)\n",
    "    # if len(corners) == 4:\n",
    "    #     return True\n",
    "    # return False\n",
    "    corners = get_square_corners(img, 2)\n",
    "    corners = np.asarray(np.nonzero(corners))\n",
    "    if corners.shape[1] == 0:\n",
    "        return False\n",
    "    return True\n",
    "\n",
    "def classify_image(img):\n",
    "    img = np.uint8(np.mean(img, axis=2))\n",
    "    _, thresh = cv2.threshold(img, 0, 255, cv2.THRESH_BINARY + cv2.THRESH_OTSU)\n",
    "    if check_triangle(thresh):\n",
    "        return 0\n",
    "    if check_square(thresh):\n",
    "        return 1\n",
    "    return 2"
   ]
  },
  {
   "cell_type": "code",
   "execution_count": 83,
   "metadata": {},
   "outputs": [
    {
     "data": {
      "text/plain": [
       "0"
      ]
     },
     "execution_count": 83,
     "metadata": {},
     "output_type": "execute_result"
    }
   ],
   "source": [
    "classify_image(tri_img)"
   ]
  },
  {
   "cell_type": "code",
   "execution_count": 84,
   "metadata": {},
   "outputs": [
    {
     "data": {
      "text/plain": [
       "1"
      ]
     },
     "execution_count": 84,
     "metadata": {},
     "output_type": "execute_result"
    }
   ],
   "source": [
    "classify_image(sq_img)"
   ]
  },
  {
   "cell_type": "code",
   "execution_count": 85,
   "metadata": {},
   "outputs": [
    {
     "data": {
      "text/plain": [
       "2"
      ]
     },
     "execution_count": 85,
     "metadata": {},
     "output_type": "execute_result"
    }
   ],
   "source": [
    "classify_image(blank_img)"
   ]
  },
  {
   "cell_type": "markdown",
   "id": "secure-barbados",
   "metadata": {},
   "source": [
    "### Q2. (33 points)\n",
    "Once you have complex cells identifying triangles and squares, I want you to simulate the visual search paradigm of Triesman (1980), where the task is to find the odd stimulus in a set of objects. In our case, the objects will be red or blue in color and triangles or squares in shape. Simulating the paradigm means   being   able   to   enter   the   number   of   objects   and   experiment   type (feature/conjunction) as parameters and obtain image frames containing objects with these features as output. "
   ]
  },
  {
   "cell_type": "code",
   "execution_count": 72,
   "metadata": {},
   "outputs": [],
   "source": [
    "tri_img = cv2.imread('triangle.jpg', 0)\n",
    "sq_img = cv2.imread('square.jpg', 0)"
   ]
  },
  {
   "cell_type": "code",
   "execution_count": 73,
   "metadata": {},
   "outputs": [],
   "source": [
    "def get_feature_search_env(n):\n",
    "    env = np.zeros((1440, 1440, 3), np.uint8)\n",
    "    color = np.random.choice(2)\n",
    "    object_locs = np.random.permutation(np.arange(144))[:n]\n",
    "    odd_stimulus_idx = np.random.choice(n)\n",
    "\n",
    "    for i, loc in enumerate(object_locs):\n",
    "        if i == odd_stimulus_idx:\n",
    "            env[(loc // 12) * 120 : (loc // 12 + 1) * 120, (loc % 12) * 120 : (loc % 12 + 1) * 120, 1 - color] = tri_img\n",
    "        else:\n",
    "            env[(loc // 12) * 120 : (loc // 12 + 1) * 120, (loc % 12) * 120 : (loc % 12 + 1) * 120, color] = tri_img\n",
    "    return env, object_locs\n",
    "\n",
    "def get_conjunction_search_env(n):\n",
    "    env = np.zeros((1440, 1440, 3), np.uint8)\n",
    "    tri_color = np.random.choice(2)\n",
    "    n_tri = np.random.choice(np.arange(1, n))\n",
    "    n_sq = n - n_tri\n",
    "\n",
    "    object_locs = np.random.permutation(np.arange(144))[:n]\n",
    "    tri_locs = object_locs[:n_tri]\n",
    "    sq_locs = object_locs[n_tri:]\n",
    "    odd_stimulus_shape = np.random.choice(2)\n",
    "\n",
    "    if odd_stimulus_shape == 0:\n",
    "        odd_stimulus_idx = np.random.choice(n_tri)\n",
    "        for i, loc in enumerate(tri_locs):\n",
    "            if i == odd_stimulus_idx:\n",
    "                env[(loc // 12) * 120 : (loc // 12 + 1) * 120, (loc % 12) * 120 : (loc % 12 + 1) * 120, 1 - tri_color] = tri_img\n",
    "            else:\n",
    "                env[(loc // 12) * 120 : (loc // 12 + 1) * 120, (loc % 12) * 120 : (loc % 12 + 1) * 120, tri_color] = tri_img\n",
    "        \n",
    "        for i, loc in enumerate(sq_locs):\n",
    "            env[(loc // 12) * 120 : (loc // 12 + 1) * 120, (loc % 12) * 120 : (loc % 12 + 1) * 120, 1 - tri_color] = sq_img\n",
    "    \n",
    "    else:\n",
    "        odd_stimulus_idx = np.random.choice(n_sq)\n",
    "        for i, loc in enumerate(sq_locs):\n",
    "            if i == odd_stimulus_idx:\n",
    "                env[(loc // 12) * 120 : (loc // 12 + 1) * 120, (loc % 12) * 120 : (loc % 12 + 1) * 120, tri_color] = sq_img\n",
    "            else:\n",
    "                env[(loc // 12) * 120 : (loc // 12 + 1) * 120, (loc % 12) * 120 : (loc % 12 + 1) * 120, 1 - tri_color] = sq_img\n",
    "        \n",
    "        for i, loc in enumerate(tri_locs):\n",
    "            env[(loc // 12) * 120 : (loc // 12 + 1) * 120, (loc % 12) * 120 : (loc % 12 + 1) * 120, tri_color] = tri_img\n",
    "    \n",
    "    return env, object_locs\n",
    "\n",
    "def create_paradigm(n, ex_type):\n",
    "    env, object_locs = get_feature_search_env(n) if ex_type == 'feature' else get_conjunction_search_env(n)\n",
    "    return np.uint8(env), object_locs"
   ]
  },
  {
   "cell_type": "code",
   "execution_count": 74,
   "metadata": {},
   "outputs": [
    {
     "data": {
      "text/plain": [
       "<matplotlib.image.AxesImage at 0x7f50e29f1e50>"
      ]
     },
     "execution_count": 74,
     "metadata": {},
     "output_type": "execute_result"
    },
    {
     "data": {
      "image/png": "[encoded data removed]",
      "text/plain": [
       "<Figure size 432x288 with 1 Axes>"
      ]
     },
     "metadata": {
      "needs_background": "light"
     },
     "output_type": "display_data"
    }
   ],
   "source": [
    "env, _ = create_paradigm(100, 'feature')\n",
    "plt.imshow(env)"
   ]
  },
  {
   "cell_type": "code",
   "execution_count": 75,
   "metadata": {},
   "outputs": [
    {
     "data": {
      "text/plain": [
       "<matplotlib.image.AxesImage at 0x7f50e294d850>"
      ]
     },
     "execution_count": 75,
     "metadata": {},
     "output_type": "execute_result"
    },
    {
     "data": {
      "image/png": "[encoded data removed]",
      "text/plain": [
       "<Figure size 432x288 with 1 Axes>"
      ]
     },
     "metadata": {
      "needs_background": "light"
     },
     "output_type": "display_data"
    }
   ],
   "source": [
    "env, _ = create_paradigm(100, 'conjunction')\n",
    "plt.imshow(env)"
   ]
  },
  {
   "cell_type": "markdown",
   "id": "secure-barbados",
   "metadata": {},
   "source": [
    "### Q3. (34 points)\n",
    "Once this paradigm is ready, I want you to implement a simple version of feature integration theory, viz. assume there is a matrix each for color and shape information, and that responses must be delayed until information from   all   relevant   stores   has   been   retrieved.   Can   add   timers   and   delays appropriately to simulate neural processing delays. As output, I want graphs of response time versus number of objects in both feature and conjunction search conditions. "
   ]
  },
  {
   "cell_type": "code",
   "execution_count": 53,
   "metadata": {},
   "outputs": [],
   "source": [
    "def identify_color(img):\n",
    "    brightness_sum = np.sum(img, (0, 1))\n",
    "    color = np.argmax(brightness_sum)\n",
    "    return color\n",
    "\n",
    "def get_feature_matrices(env, object_locs):\n",
    "    n = len(object_locs)\n",
    "    shape_mat = np.zeros(n)\n",
    "    color_mat = np.zeros(n)\n",
    "    for i, loc in enumerate(object_locs):\n",
    "        img = env[(loc // 12) * 120 : (loc // 12 + 1) * 120, (loc % 12) * 120 : (loc % 12 + 1) * 120, :]\n",
    "        shape_mat[i] = classify_image(img)\n",
    "        color_mat[i] = identify_color(img)\n",
    "    return shape_mat, color_mat\n",
    "\n",
    "def feature_search(shape_mat, color_mat):\n",
    "    tri_idx = np.asarray(np.nonzero(1 - shape_mat))\n",
    "    sq_idx = np.asarray(np.nonzero(shape_mat))\n",
    "    red_idx = np.array(np.nonzero(1 - color_mat))\n",
    "    green_idx = np.array(np.nonzero(color_mat))\n",
    "\n",
    "    if tri_idx.shape[1] == 1:\n",
    "        return tri_idx[0]\n",
    "    if sq_idx.shape[1] == 1:\n",
    "        return sq_idx[0]\n",
    "    if red_idx.shape[1] == 1:\n",
    "        return red_idx[0]\n",
    "    if green_idx.shape[1] == 1:\n",
    "        return green_idx[0]\n",
    "    \n",
    "    time.sleep(0.02)\n",
    "    return -1\n",
    "\n",
    "def conjunction_search(shape_mat, color_mat):\n",
    "    n = len(shape_mat)\n",
    "    red_tri_idx = []\n",
    "    green_tri_idx = []\n",
    "    red_sq_idx = []\n",
    "    green_sq_idx = []\n",
    "\n",
    "    for i in range(n):\n",
    "        if shape_mat[i] == 0:\n",
    "            if color_mat[i] == 0:\n",
    "                red_tri_idx.append(i)\n",
    "            else:\n",
    "                green_tri_idx.append(i)\n",
    "        else:\n",
    "            if color_mat[i] == 0:\n",
    "                red_sq_idx.append(i)\n",
    "            else:\n",
    "                green_sq_idx.append(i)\n",
    "        time.sleep(0.015)\n",
    "    \n",
    "    if len(red_tri_idx) == 1:\n",
    "        return red_tri_idx[0]\n",
    "    if len(green_tri_idx) == 1:\n",
    "        return green_tri_idx[0]\n",
    "    if len(red_sq_idx) == 1:\n",
    "        return red_sq_idx[0]\n",
    "    if len(green_sq_idx) == 1:\n",
    "        return green_sq_idx[0]\n",
    "    \n",
    "    time.sleep(0.02)\n",
    "    return -1"
   ]
  },
  {
   "cell_type": "code",
   "execution_count": 55,
   "metadata": {},
   "outputs": [],
   "source": [
    "resp_time_fs = []\n",
    "for n in range(2, 145):\n",
    "    env, object_locs = create_paradigm(n, 'feature')\n",
    "    shape_mat, color_mat = get_feature_matrices(env, object_locs)\n",
    "\n",
    "    start = time.time()\n",
    "    target_idx = feature_search(shape_mat, color_mat)\n",
    "    resp_time_fs.append(time.time() - start)"
   ]
  },
  {
   "cell_type": "code",
   "execution_count": 56,
   "metadata": {},
   "outputs": [],
   "source": [
    "resp_time_cs = []\n",
    "for n in range(2, 145):\n",
    "    env, object_locs = create_paradigm(n, 'conjunction')\n",
    "    shape_mat, color_mat = get_feature_matrices(env, object_locs)\n",
    "\n",
    "    start = time.time()\n",
    "    target_idx = conjunction_search(shape_mat, color_mat)\n",
    "    resp_time_cs.append(time.time() - start)"
   ]
  },
  {
   "cell_type": "code",
   "execution_count": 58,
   "metadata": {},
   "outputs": [
    {
     "data": {
      "image/png": "[encoded data removed]",
      "text/plain": [
       "<Figure size 432x288 with 1 Axes>"
      ]
     },
     "metadata": {
      "needs_background": "light"
     },
     "output_type": "display_data"
    }
   ],
   "source": [
    "plt.plot(resp_time_fs, label='Feature Search')\n",
    "plt.plot(resp_time_cs, label='Conjunction Search')\n",
    "plt.ylabel('Response Time')\n",
    "plt.xlabel('No. of Objects')\n",
    "plt.title('Response Time vs No. of Objects')\n",
    "plt.legend()\n",
    "plt.show()"
   ]
  },
  {
   "cell_type": "code",
   "execution_count": null,
   "metadata": {},
   "outputs": [],
   "source": []
  }
 ],
 "metadata": {
  "interpreter": {
   "hash": "f6983f0126dc83c2841f3c31fb171b348a3a6b87b04aee638a6a5243e8ac5f4a"
  },
  "kernelspec": {
   "display_name": "Python 3.9.1 ('base')",
   "language": "python",
   "name": "python3"
  },
  "language_info": {
   "codemirror_mode": {
    "name": "ipython",
    "version": 3
   },
   "file_extension": ".py",
   "mimetype": "text/x-python",
   "name": "python",
   "nbconvert_exporter": "python",
   "pygments_lexer": "ipython3",
   "version": "3.9.10"
  },
  "orig_nbformat": 4
 },
 "nbformat": 4,
 "nbformat_minor": 2
}
