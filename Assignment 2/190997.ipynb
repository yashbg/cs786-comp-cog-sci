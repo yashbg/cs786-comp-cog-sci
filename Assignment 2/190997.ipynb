{
 "cells": [
  {
   "cell_type": "markdown",
   "id": "59e7c7b8",
   "metadata": {},
   "source": [
    "# Assignment 2\n",
    "\\- Yash Gupta (190997)"
   ]
  },
  {
   "cell_type": "markdown",
   "id": "secure-barbados",
   "metadata": {},
   "source": [
    "### Q1. (33 points)\n",
    "Gabor filters are renowned for their functional equivalence to simple orientation-specific cells in primary visual cortex. I want you to design complex cells that can recognize  \n",
    "(a) triangles and  \n",
    "(b) squares  \n",
    "using a bank of orientation-selective 2D Gabor filters. "
   ]
  },
  {
   "cell_type": "markdown",
   "metadata": {},
   "source": [
    "Let the base of the triangle and the square be horizontal and the triangle be an isosceles right-angled triangle with the top angle as the right angle. We can design complex cells for them without loss of generality. "
   ]
  },
  {
   "cell_type": "code",
   "execution_count": 1,
   "metadata": {},
   "outputs": [],
   "source": [
    "import numpy as np\n",
    "import matplotlib.pyplot as plt\n",
    "import cv2\n",
    "import time"
   ]
  },
  {
   "cell_type": "code",
   "execution_count": 17,
   "metadata": {},
   "outputs": [],
   "source": [
    "tri_img = cv2.imread('triangle.jpg')\n",
    "sq_img = cv2.imread('square.jpg')\n",
    "blank_img = cv2.imread('blank.jpg')"
   ]
  },
  {
   "cell_type": "code",
   "execution_count": 3,
   "metadata": {},
   "outputs": [
    {
     "data": {
      "text/plain": [
       "<matplotlib.image.AxesImage at 0x7fc404c4cdf0>"
      ]
     },
     "execution_count": 3,
     "metadata": {},
     "output_type": "execute_result"
    },
    {
     "data": {
      "image/png": "[encoded data removed]",
      "text/plain": [
       "<Figure size 432x288 with 1 Axes>"
      ]
     },
     "metadata": {
      "needs_background": "light"
     },
     "output_type": "display_data"
    }
   ],
   "source": [
    "plt.imshow(tri_img)"
   ]
  },
  {
   "cell_type": "code",
   "execution_count": 4,
   "metadata": {},
   "outputs": [
    {
     "data": {
      "text/plain": [
       "<matplotlib.image.AxesImage at 0x7fc402b44c70>"
      ]
     },
     "execution_count": 4,
     "metadata": {},
     "output_type": "execute_result"
    },
    {
     "data": {
      "image/png": "[encoded data removed]",
      "text/plain": [
       "<Figure size 432x288 with 1 Axes>"
      ]
     },
     "metadata": {
      "needs_background": "light"
     },
     "output_type": "display_data"
    }
   ],
   "source": [
    "plt.imshow(sq_img)"
   ]
  },
  {
   "cell_type": "code",
   "execution_count": 5,
   "metadata": {},
   "outputs": [
    {
     "data": {
      "text/plain": [
       "<matplotlib.image.AxesImage at 0x7fc402ab88e0>"
      ]
     },
     "execution_count": 5,
     "metadata": {},
     "output_type": "execute_result"
    },
    {
     "data": {
      "image/png": "[encoded data removed]",
      "text/plain": [
       "<Figure size 432x288 with 1 Axes>"
      ]
     },
     "metadata": {
      "needs_background": "light"
     },
     "output_type": "display_data"
    }
   ],
   "source": [
    "plt.imshow(blank_img)"
   ]
  },
  {
   "cell_type": "markdown",
   "metadata": {},
   "source": [
    "As a part of preprocessing, we will dilate, erode and finally use thresholding to get sharp shapes. "
   ]
  },
  {
   "cell_type": "markdown",
   "metadata": {},
   "source": [
    "We will use a bank of 3 gabor filters for recognizing the triangle. They will be oriented at $\\pi / 4$, $3 \\pi / 4$ and $\\pi / 2$ degrees to detect the left, right and the base edges of the triangle respectively.  \n",
    "Similarly, for the square, we will be using a bank of 2 gabor filters oriented at 0 and $\\pi / 2$ degrees to detect the horizontal and the vertical edges of the square respectively. "
   ]
  },
  {
   "cell_type": "markdown",
   "metadata": {},
   "source": [
    "Then we will take the intersection (by element-wise multiplication of the arrays) of these edges to get the corners of the shapes.  \n",
    "Finally, we will test for both triangle and square. "
   ]
  },
  {
   "cell_type": "markdown",
   "metadata": {},
   "source": [
    "If the shape is a triangle, all the 3 corners should be existent after applying the 3 gabor filters defined for the triangle. A square will not produce these 3 corners.  \n",
    "If the shape is a square, we should get corners after applying the horizontal and vertical gabor filters. A triangle will not produce any corner. "
   ]
  },
  {
   "cell_type": "code",
   "execution_count": 45,
   "metadata": {},
   "outputs": [],
   "source": [
    "def get_triangle_corners(img):\n",
    "    ksize = (31, 31)\n",
    "    sigma = 2\n",
    "    lambd = 2\n",
    "    gamma = 0.5\n",
    "    psi = 0\n",
    "\n",
    "    gabor_left = cv2.getGaborKernel(ksize, sigma, np.pi / 4, lambd, gamma, psi, ktype=cv2.CV_32F)\n",
    "    img_left = cv2.filter2D(img, cv2.CV_8UC3, gabor_left)\n",
    "    img_left = cv2.dilate(img_left, np.ones((5, 5)), iterations=2)\n",
    "    img_left = cv2.erode(img_left, np.ones((5, 5)), iterations=2)\n",
    "    blur = cv2.GaussianBlur(img_left, (5, 5), 0)\n",
    "    _, thresh_left = cv2.threshold(blur, 180, 255, cv2.THRESH_BINARY)\n",
    "\n",
    "    gabor_right = cv2.getGaborKernel(ksize, sigma, 3 * np.pi / 4, lambd, gamma, psi, ktype=cv2.CV_32F)\n",
    "    img_right = cv2.filter2D(img, cv2.CV_8UC3, gabor_right)\n",
    "    img_right = cv2.dilate(img_right, np.ones((5, 5)), iterations=2)\n",
    "    img_right = cv2.erode(img_right, np.ones((5, 5)), iterations=2)\n",
    "    blur = cv2.GaussianBlur(img_right, (5, 5), 0)\n",
    "    _, thresh_right = cv2.threshold(blur, 180, 255, cv2.THRESH_BINARY)\n",
    "\n",
    "    gabor_base = cv2.getGaborKernel(ksize, sigma, np.pi / 2, lambd, gamma, psi, ktype=cv2.CV_32F)\n",
    "    img_base = cv2.filter2D(img, cv2.CV_8UC3, gabor_base)\n",
    "    img_base = cv2.dilate(img_base, np.ones((5, 5)), iterations=2)\n",
    "    img_base = cv2.erode(img_base, np.ones((5, 5)), iterations=2)\n",
    "    blur = cv2.GaussianBlur(img_base, (5, 5), 0)\n",
    "    _, thresh_base = cv2.threshold(blur, 180, 255, cv2.THRESH_BINARY)\n",
    "\n",
    "    corner_left = np.uint8(thresh_left * thresh_base) * 255\n",
    "    corner_right = np.uint8(thresh_right * thresh_base) * 255\n",
    "    corner_top = np.uint8(thresh_left * thresh_right) * 255\n",
    "\n",
    "    return [corner_left, corner_right, corner_top]\n",
    "\n",
    "def get_square_corners(img):\n",
    "    ksize = (31, 31)\n",
    "    sigma = 2\n",
    "    lambd = 2\n",
    "    gamma = 0.5\n",
    "    psi = 0\n",
    "\n",
    "    gabor_horizontal = cv2.getGaborKernel(ksize, sigma, 0, lambd, gamma, psi, ktype=cv2.CV_32F)\n",
    "    img_horizontal = cv2.filter2D(img, cv2.CV_8UC3, gabor_horizontal)\n",
    "    img_horizontal = cv2.dilate(img_horizontal, np.ones((5, 5)), iterations=2)\n",
    "    img_horizontal = cv2.erode(img_horizontal, np.ones((5, 5)), iterations=2)\n",
    "    blur = cv2.GaussianBlur(img_horizontal, (5, 5), 0)\n",
    "    _, thresh_horizontal = cv2.threshold(blur, 180, 255, cv2.THRESH_BINARY)\n",
    "\n",
    "    gabor_vertical = cv2.getGaborKernel(ksize, sigma, np.pi / 2, lambd, gamma, psi, ktype=cv2.CV_32F)\n",
    "    img_vertical = cv2.filter2D(img, cv2.CV_8UC3, gabor_vertical)\n",
    "    img_vertical = cv2.dilate(img_vertical, np.ones((5, 5)), iterations=2)\n",
    "    img_vertical = cv2.erode(img_vertical, np.ones((5, 5)), iterations=2)\n",
    "    blur = cv2.GaussianBlur(img_vertical, (5, 5), 0)\n",
    "    _, thresh_vertical = cv2.threshold(blur, 180, 255, cv2.THRESH_BINARY)\n",
    "\n",
    "    corners = np.uint8(thresh_horizontal * thresh_vertical) * 255\n",
    "    return corners\n",
    "\n",
    "# check if img is a triangle\n",
    "def check_triangle(img):\n",
    "    corners = get_triangle_corners(img)\n",
    "    for i in range(3):\n",
    "        corner = np.asarray(np.nonzero(corners[i]))\n",
    "        if corner.shape[1] == 0:\n",
    "            return False\n",
    "    return True\n",
    "\n",
    "# checek if img is a square\n",
    "def check_square(img):\n",
    "    corners = get_square_corners(img)\n",
    "    corners = np.asarray(np.nonzero(corners))\n",
    "    if corners.shape[1] == 0:\n",
    "        return False\n",
    "    return True\n",
    "\n",
    "def classify_image(img):\n",
    "    img = np.uint8(np.mean(img, axis=2))\n",
    "    _, thresh = cv2.threshold(img, 0, 255, cv2.THRESH_BINARY + cv2.THRESH_OTSU)\n",
    "    if check_triangle(thresh):\n",
    "        print('It is a triangle.')\n",
    "        return 0\n",
    "    if check_square(thresh):\n",
    "        print('It is a square.')\n",
    "        return 1\n",
    "    print('It is neither a triangle nor a square.')\n",
    "    return 2"
   ]
  },
  {
   "cell_type": "markdown",
   "metadata": {},
   "source": [
    "Now, lets try classifying a few images:"
   ]
  },
  {
   "cell_type": "code",
   "execution_count": 42,
   "metadata": {},
   "outputs": [
    {
     "name": "stdout",
     "output_type": "stream",
     "text": [
      "It is a triangle.\n"
     ]
    },
    {
     "data": {
      "image/png": "[encoded data removed]",
      "text/plain": [
       "<Figure size 432x288 with 1 Axes>"
      ]
     },
     "metadata": {
      "needs_background": "light"
     },
     "output_type": "display_data"
    }
   ],
   "source": [
    "plt.imshow(tri_img)\n",
    "tri_shape = classify_image(tri_img)"
   ]
  },
  {
   "cell_type": "code",
   "execution_count": 43,
   "metadata": {},
   "outputs": [
    {
     "name": "stdout",
     "output_type": "stream",
     "text": [
      "It is a square.\n"
     ]
    },
    {
     "data": {
      "image/png": "[encoded data removed]",
      "text/plain": [
       "<Figure size 432x288 with 1 Axes>"
      ]
     },
     "metadata": {
      "needs_background": "light"
     },
     "output_type": "display_data"
    }
   ],
   "source": [
    "plt.imshow(sq_img)\n",
    "sq_shape = classify_image(sq_img)"
   ]
  },
  {
   "cell_type": "code",
   "execution_count": 44,
   "metadata": {},
   "outputs": [
    {
     "name": "stdout",
     "output_type": "stream",
     "text": [
      "It is neither a triangle nor a square.\n"
     ]
    },
    {
     "data": {
      "image/png": "[encoded data removed]",
      "text/plain": [
       "<Figure size 432x288 with 1 Axes>"
      ]
     },
     "metadata": {
      "needs_background": "light"
     },
     "output_type": "display_data"
    }
   ],
   "source": [
    "plt.imshow(blank_img)\n",
    "blank_shape = classify_image(blank_img)"
   ]
  },
  {
   "cell_type": "markdown",
   "metadata": {},
   "source": [
    "As we can see, we are able to classify the images successfully. "
   ]
  },
  {
   "cell_type": "markdown",
   "id": "secure-barbados",
   "metadata": {},
   "source": [
    "### Q2. (33 points)\n",
    "Once you have complex cells identifying triangles and squares, I want you to simulate the visual search paradigm of Triesman (1980), where the task is to find the odd stimulus in a set of objects. In our case, the objects will be red or blue in color and triangles or squares in shape. Simulating the paradigm means   being   able   to   enter   the   number   of   objects   and   experiment   type (feature/conjunction) as parameters and obtain image frames containing objects with these features as output. "
   ]
  },
  {
   "cell_type": "code",
   "execution_count": 10,
   "metadata": {},
   "outputs": [],
   "source": [
    "tri_img = cv2.imread('triangle.jpg', 0)\n",
    "sq_img = cv2.imread('square.jpg', 0)"
   ]
  },
  {
   "cell_type": "code",
   "execution_count": 11,
   "metadata": {},
   "outputs": [],
   "source": [
    "def get_feature_search_env(n):\n",
    "    env = np.zeros((1440, 1440, 3), np.uint8)\n",
    "    color = np.random.choice(2)\n",
    "    object_locs = np.random.permutation(np.arange(144))[:n]\n",
    "    odd_stimulus_idx = np.random.choice(n)\n",
    "\n",
    "    for i, loc in enumerate(object_locs):\n",
    "        if i == odd_stimulus_idx:\n",
    "            env[(loc // 12) * 120 : (loc // 12 + 1) * 120, (loc % 12) * 120 : (loc % 12 + 1) * 120, 1 - color] = tri_img\n",
    "        else:\n",
    "            env[(loc // 12) * 120 : (loc // 12 + 1) * 120, (loc % 12) * 120 : (loc % 12 + 1) * 120, color] = tri_img\n",
    "    return env, object_locs\n",
    "\n",
    "def get_conjunction_search_env(n):\n",
    "    env = np.zeros((1440, 1440, 3), np.uint8)\n",
    "    tri_color = np.random.choice(2)\n",
    "    n_tri = np.random.choice(np.arange(1, n))\n",
    "    n_sq = n - n_tri\n",
    "\n",
    "    object_locs = np.random.permutation(np.arange(144))[:n]\n",
    "    tri_locs = object_locs[:n_tri]\n",
    "    sq_locs = object_locs[n_tri:]\n",
    "    odd_stimulus_shape = np.random.choice(2)\n",
    "\n",
    "    if odd_stimulus_shape == 0:\n",
    "        odd_stimulus_idx = np.random.choice(n_tri)\n",
    "        for i, loc in enumerate(tri_locs):\n",
    "            if i == odd_stimulus_idx:\n",
    "                env[(loc // 12) * 120 : (loc // 12 + 1) * 120, (loc % 12) * 120 : (loc % 12 + 1) * 120, 1 - tri_color] = tri_img\n",
    "            else:\n",
    "                env[(loc // 12) * 120 : (loc // 12 + 1) * 120, (loc % 12) * 120 : (loc % 12 + 1) * 120, tri_color] = tri_img\n",
    "        \n",
    "        for i, loc in enumerate(sq_locs):\n",
    "            env[(loc // 12) * 120 : (loc // 12 + 1) * 120, (loc % 12) * 120 : (loc % 12 + 1) * 120, 1 - tri_color] = sq_img\n",
    "    \n",
    "    else:\n",
    "        odd_stimulus_idx = np.random.choice(n_sq)\n",
    "        for i, loc in enumerate(sq_locs):\n",
    "            if i == odd_stimulus_idx:\n",
    "                env[(loc // 12) * 120 : (loc // 12 + 1) * 120, (loc % 12) * 120 : (loc % 12 + 1) * 120, tri_color] = sq_img\n",
    "            else:\n",
    "                env[(loc // 12) * 120 : (loc // 12 + 1) * 120, (loc % 12) * 120 : (loc % 12 + 1) * 120, 1 - tri_color] = sq_img\n",
    "        \n",
    "        for i, loc in enumerate(tri_locs):\n",
    "            env[(loc // 12) * 120 : (loc // 12 + 1) * 120, (loc % 12) * 120 : (loc % 12 + 1) * 120, tri_color] = tri_img\n",
    "    \n",
    "    return env, object_locs\n",
    "\n",
    "def create_paradigm(n, ex_type):\n",
    "    env, object_locs = get_feature_search_env(n) if ex_type == 'feature' else get_conjunction_search_env(n)\n",
    "    return np.uint8(env), object_locs"
   ]
  },
  {
   "cell_type": "code",
   "execution_count": 12,
   "metadata": {},
   "outputs": [
    {
     "data": {
      "text/plain": [
       "<matplotlib.image.AxesImage at 0x7fc402a15a90>"
      ]
     },
     "execution_count": 12,
     "metadata": {},
     "output_type": "execute_result"
    },
    {
     "data": {
      "image/png": "[encoded data removed]",
      "text/plain": [
       "<Figure size 432x288 with 1 Axes>"
      ]
     },
     "metadata": {
      "needs_background": "light"
     },
     "output_type": "display_data"
    }
   ],
   "source": [
    "env, _ = create_paradigm(100, 'feature')\n",
    "plt.imshow(env)"
   ]
  },
  {
   "cell_type": "code",
   "execution_count": 13,
   "metadata": {},
   "outputs": [
    {
     "data": {
      "text/plain": [
       "<matplotlib.image.AxesImage at 0x7fc40019d0d0>"
      ]
     },
     "execution_count": 13,
     "metadata": {},
     "output_type": "execute_result"
    },
    {
     "data": {
      "image/png": "[encoded data removed]",
      "text/plain": [
       "<Figure size 432x288 with 1 Axes>"
      ]
     },
     "metadata": {
      "needs_background": "light"
     },
     "output_type": "display_data"
    }
   ],
   "source": [
    "env, _ = create_paradigm(100, 'conjunction')\n",
    "plt.imshow(env)"
   ]
  },
  {
   "cell_type": "markdown",
   "id": "secure-barbados",
   "metadata": {},
   "source": [
    "### Q3. (34 points)\n",
    "Once this paradigm is ready, I want you to implement a simple version of feature integration theory, viz. assume there is a matrix each for color and shape information, and that responses must be delayed until information from   all   relevant   stores   has   been   retrieved.   Can   add   timers   and   delays appropriately to simulate neural processing delays. As output, I want graphs of response time versus number of objects in both feature and conjunction search conditions. "
   ]
  },
  {
   "cell_type": "code",
   "execution_count": 14,
   "metadata": {},
   "outputs": [],
   "source": [
    "def identify_color(img):\n",
    "    brightness_sum = np.sum(img, (0, 1))\n",
    "    color = np.argmax(brightness_sum)\n",
    "    return color\n",
    "\n",
    "def get_feature_matrices(env, object_locs):\n",
    "    n = len(object_locs)\n",
    "    shape_mat = np.zeros(n)\n",
    "    color_mat = np.zeros(n)\n",
    "    for i, loc in enumerate(object_locs):\n",
    "        img = env[(loc // 12) * 120 : (loc // 12 + 1) * 120, (loc % 12) * 120 : (loc % 12 + 1) * 120, :]\n",
    "        shape_mat[i] = classify_image(img)\n",
    "        color_mat[i] = identify_color(img)\n",
    "    return shape_mat, color_mat\n",
    "\n",
    "def feature_search(shape_mat, color_mat):\n",
    "    tri_idx = np.asarray(np.nonzero(1 - shape_mat))\n",
    "    sq_idx = np.asarray(np.nonzero(shape_mat))\n",
    "    red_idx = np.array(np.nonzero(1 - color_mat))\n",
    "    green_idx = np.array(np.nonzero(color_mat))\n",
    "\n",
    "    if tri_idx.shape[1] == 1:\n",
    "        return tri_idx[0]\n",
    "    if sq_idx.shape[1] == 1:\n",
    "        return sq_idx[0]\n",
    "    if red_idx.shape[1] == 1:\n",
    "        return red_idx[0]\n",
    "    if green_idx.shape[1] == 1:\n",
    "        return green_idx[0]\n",
    "    \n",
    "    time.sleep(0.02)\n",
    "    return -1\n",
    "\n",
    "def conjunction_search(shape_mat, color_mat):\n",
    "    n = len(shape_mat)\n",
    "    red_tri_idx = []\n",
    "    green_tri_idx = []\n",
    "    red_sq_idx = []\n",
    "    green_sq_idx = []\n",
    "\n",
    "    for i in range(n):\n",
    "        if shape_mat[i] == 0:\n",
    "            if color_mat[i] == 0:\n",
    "                red_tri_idx.append(i)\n",
    "            else:\n",
    "                green_tri_idx.append(i)\n",
    "        else:\n",
    "            if color_mat[i] == 0:\n",
    "                red_sq_idx.append(i)\n",
    "            else:\n",
    "                green_sq_idx.append(i)\n",
    "        time.sleep(0.015)\n",
    "    \n",
    "    if len(red_tri_idx) == 1:\n",
    "        return red_tri_idx[0]\n",
    "    if len(green_tri_idx) == 1:\n",
    "        return green_tri_idx[0]\n",
    "    if len(red_sq_idx) == 1:\n",
    "        return red_sq_idx[0]\n",
    "    if len(green_sq_idx) == 1:\n",
    "        return green_sq_idx[0]\n",
    "    \n",
    "    time.sleep(0.02)\n",
    "    return -1"
   ]
  },
  {
   "cell_type": "code",
   "execution_count": 55,
   "metadata": {},
   "outputs": [],
   "source": [
    "resp_time_fs = []\n",
    "for n in range(2, 145):\n",
    "    env, object_locs = create_paradigm(n, 'feature')\n",
    "    shape_mat, color_mat = get_feature_matrices(env, object_locs)\n",
    "\n",
    "    start = time.time()\n",
    "    target_idx = feature_search(shape_mat, color_mat)\n",
    "    resp_time_fs.append(time.time() - start)"
   ]
  },
  {
   "cell_type": "code",
   "execution_count": 56,
   "metadata": {},
   "outputs": [],
   "source": [
    "resp_time_cs = []\n",
    "for n in range(2, 145):\n",
    "    env, object_locs = create_paradigm(n, 'conjunction')\n",
    "    shape_mat, color_mat = get_feature_matrices(env, object_locs)\n",
    "\n",
    "    start = time.time()\n",
    "    target_idx = conjunction_search(shape_mat, color_mat)\n",
    "    resp_time_cs.append(time.time() - start)"
   ]
  },
  {
   "cell_type": "code",
   "execution_count": 58,
   "metadata": {},
   "outputs": [
    {
     "data": {
      "image/png": "[encoded data removed]",
      "text/plain": [
       "<Figure size 432x288 with 1 Axes>"
      ]
     },
     "metadata": {
      "needs_background": "light"
     },
     "output_type": "display_data"
    }
   ],
   "source": [
    "plt.plot(resp_time_fs, label='Feature Search')\n",
    "plt.plot(resp_time_cs, label='Conjunction Search')\n",
    "plt.ylabel('Response Time')\n",
    "plt.xlabel('No. of Objects')\n",
    "plt.title('Response Time vs No. of Objects')\n",
    "plt.legend()\n",
    "plt.show()"
   ]
  },
  {
   "cell_type": "code",
   "execution_count": null,
   "metadata": {},
   "outputs": [],
   "source": []
  }
 ],
 "metadata": {
  "interpreter": {
   "hash": "f6983f0126dc83c2841f3c31fb171b348a3a6b87b04aee638a6a5243e8ac5f4a"
  },
  "kernelspec": {
   "display_name": "Python 3.9.1 ('base')",
   "language": "python",
   "name": "python3"
  },
  "language_info": {
   "codemirror_mode": {
    "name": "ipython",
    "version": 3
   },
   "file_extension": ".py",
   "mimetype": "text/x-python",
   "name": "python",
   "nbconvert_exporter": "python",
   "pygments_lexer": "ipython3",
   "version": "3.9.10"
  },
  "orig_nbformat": 4
 },
 "nbformat": 4,
 "nbformat_minor": 2
}
