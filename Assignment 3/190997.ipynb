{
 "cells": [
  {
   "cell_type": "markdown",
   "metadata": {},
   "source": [
    "# Assignment 3\n",
    "\n",
    "\\- Yash Gupta (190997)"
   ]
  },
  {
   "cell_type": "markdown",
   "id": "secure-barbados",
   "metadata": {},
   "source": [
    "### Part 1: 25 marks\n",
    "\n",
    "Fill in the partially complete lines of code in the file temporal_context_model_empty.m to make a temporal context model of memory retrieval that retrieves about 7 items from an encoded list efficiently.\n",
    "\n",
    "This should not be very challenging if you've followed the concept of the TCM in class. "
   ]
  },
  {
   "cell_type": "markdown",
   "metadata": {},
   "source": [
    "The temporal context model assumes that the past becomes increasingly dissimilar to the future, so that memories become harder to retrieve the farther away in the past they are. "
   ]
  },
  {
   "cell_type": "markdown",
   "metadata": {},
   "source": [
    "We are going to model the world as a set of N continuous-valued features. We will model observations of states of the world as samples from N Gaussians with time-varying means and fixed variance. For simplicity, we will assume that agents change nothing in the world."
   ]
  },
  {
   "cell_type": "code",
   "execution_count": 23,
   "metadata": {},
   "outputs": [],
   "source": [
    "import numpy as np\n",
    "from matplotlib import pyplot as plt\n",
    "from numpy import random as rand\n",
    "from scipy import stats"
   ]
  },
  {
   "cell_type": "code",
   "execution_count": 10,
   "metadata": {},
   "outputs": [],
   "source": [
    "def draw_from_a_dist(p):\n",
    "    if np.sum(p) == 0:\n",
    "        p = 0.05 * np.ones(len(p))\n",
    "    p /= np.sum(p)\n",
    "    idx = np.where(rand.random(1) - np.cumsum(p) < 0)\n",
    "    sample = np.min(idx)\n",
    "    out = np.zeros(len(p))\n",
    "    out[sample] = 1\n",
    "    return out"
   ]
  },
  {
   "cell_type": "code",
   "execution_count": 11,
   "metadata": {},
   "outputs": [],
   "source": [
    "N_WORLD_FEATURES = 5\n",
    "N_ITEMS = 10\n",
    "ENCODING_TIME = 500\n",
    "TEST_TIME = 20"
   ]
  },
  {
   "cell_type": "markdown",
   "metadata": {},
   "source": [
    "First we will fix the presentation schedule; We'll assuming its random. "
   ]
  },
  {
   "cell_type": "code",
   "execution_count": 12,
   "metadata": {},
   "outputs": [],
   "source": [
    "schedule = np.column_stack((np.sort(np.round(rand.random(N_ITEMS) * ENCODING_TIME)), np.arange(N_ITEMS)))\n",
    "schedule_load = ENCODING_TIME / np.median(np.diff(schedule[:, 0])) # variable important for parts 2,3 of assignment\n",
    "encoding = np.zeros((N_ITEMS, N_WORLD_FEATURES + 1))\n",
    "\n",
    "world_m = np.array([1, 2, 1, 2, 3], dtype=float)\n",
    "world_var = 1\n",
    "delta = 0.05\n",
    "beta_param = 0.001\n",
    "m = 0"
   ]
  },
  {
   "cell_type": "markdown",
   "metadata": {},
   "source": [
    "Simulating encoding:"
   ]
  },
  {
   "cell_type": "code",
   "execution_count": 13,
   "metadata": {},
   "outputs": [],
   "source": [
    "for time in range(ENCODING_TIME):\n",
    "    world_m += delta\n",
    "    world = rand.normal(world_m, world_var)\n",
    "    # any item I want to encode in memory, I encode in association with the\n",
    "    # state of the world at that time.\n",
    "    if m < N_ITEMS:\n",
    "        if time == schedule[m, 0]:\n",
    "            encoding[m, :] = np.append(world, m) # encode into the encoding vector\n",
    "            m += 1"
   ]
  },
  {
   "cell_type": "markdown",
   "metadata": {},
   "source": [
    "Simulating retrieval using SAM, but with a bijective image-item mapping:"
   ]
  },
  {
   "cell_type": "code",
   "execution_count": 14,
   "metadata": {},
   "outputs": [
    {
     "data": {
      "text/plain": [
       "10"
      ]
     },
     "execution_count": 14,
     "metadata": {},
     "output_type": "execute_result"
    }
   ],
   "source": [
    "out = np.zeros(TEST_TIME)\n",
    "while time < ENCODING_TIME + TEST_TIME:\n",
    "    # the state of the world is the retrieval cue\n",
    "    world_m += delta\n",
    "    world = rand.normal(world_m, world_var) # model world evolution\n",
    "    soa = np.zeros(N_ITEMS)\n",
    "    for m in range(N_ITEMS):\n",
    "        soa[m] = np.dot(encoding[m], np.append(world, m)) # finding association strengths\n",
    "    soa /= np.linalg.norm(soa) # normalize\n",
    "    out[time - ENCODING_TIME] = np.where(draw_from_a_dist(soa) > 0)[0]\n",
    "    time += 1\n",
    "\n",
    "success = len(np.unique(out)) # success is number of unique retrievals\n",
    "success"
   ]
  },
  {
   "cell_type": "markdown",
   "metadata": {},
   "source": [
    "Humans can retrieve about 7 items effectively from memory. We want this model to behave like humans. "
   ]
  },
  {
   "cell_type": "markdown",
   "metadata": {},
   "source": [
    "Let's check the average success over 100 iterations. "
   ]
  },
  {
   "cell_type": "code",
   "execution_count": 16,
   "metadata": {},
   "outputs": [
    {
     "name": "stdout",
     "output_type": "stream",
     "text": [
      "Average success over 100 iterations: 7.56\n"
     ]
    }
   ],
   "source": [
    "success_sum = 0\n",
    "num_iter = 100\n",
    "\n",
    "for i in range(num_iter):\n",
    "    schedule = np.column_stack((np.sort(np.round(rand.random(N_ITEMS) * ENCODING_TIME)), np.arange(N_ITEMS)))\n",
    "    schedule_load = ENCODING_TIME / np.median(np.diff(schedule[:, 0]))\n",
    "    encoding = np.zeros((N_ITEMS, N_WORLD_FEATURES + 1))\n",
    "\n",
    "    world_m = np.array([1, 2, 1, 2, 3], dtype=float)\n",
    "    world_var = 1\n",
    "    delta = 0.05\n",
    "    beta_param = 0.001\n",
    "    m = 0\n",
    "\n",
    "    for time in range(ENCODING_TIME):\n",
    "        world_m += delta\n",
    "        world = rand.normal(world_m, world_var)\n",
    "        if m < N_ITEMS:\n",
    "            if time == schedule[m, 0]:\n",
    "                encoding[m, :] = np.append(world, m)\n",
    "                m += 1\n",
    "\n",
    "    out = np.zeros(TEST_TIME)\n",
    "    while time < ENCODING_TIME + TEST_TIME:\n",
    "        world_m += delta\n",
    "        world = rand.normal(world_m, world_var)\n",
    "        soa = np.zeros(N_ITEMS)\n",
    "        for m in range(N_ITEMS):\n",
    "            soa[m] = np.dot(encoding[m], np.append(world, m))\n",
    "        soa /= np.linalg.norm(soa)\n",
    "        out[time - ENCODING_TIME] = np.where(draw_from_a_dist(soa) > 0)[0]\n",
    "        time += 1\n",
    "\n",
    "    success = len(np.unique(out))\n",
    "    success_sum += success\n",
    "\n",
    "avg_success = success_sum / num_iter\n",
    "print(f'Average success over {num_iter} iterations: {avg_success}')"
   ]
  },
  {
   "cell_type": "markdown",
   "metadata": {},
   "source": [
    "Hence, our model behaves like humans as it retrieves more than 7 items from an encoded list efficiently, on average. "
   ]
  },
  {
   "cell_type": "markdown",
   "id": "secure-barbados",
   "metadata": {},
   "source": [
    "### Part 2: 25 marks\n",
    "\n",
    "Alongside the TCM you have implemented, you have also implemented assumptions about the physics of the world. Namely, you have assumed that the world can be represented as a set of draws from N independent Gaussians, and that the means of these Gaussians evolve over time linearly. Now we change this. We assume that the world contains context changes, and represent this fact by sampling the rate of drift over time (delta) in the feature means itself from a mixture of two Gaussians, one with a small mean to denote small changes, and one with a large mean to denote large changes. \n",
    "\n",
    "Implement this new physics of the world in the model, and design an encoding schedule that lets your model retrieve effectively (>7 success). The trivial solution is to shove all the encodings towards the back end of the encoding period, but doing so will increase your encoding load (proxy for study effort). \n",
    "\n",
    "An optimal solution would find the scheduling pattern that minimizes % encoding load while maintaining average retrieval success across multiple runs at 7. See if you can find it, assuming your retrieving agent knows the parameters of the model that will generate his world contexts."
   ]
  },
  {
   "cell_type": "code",
   "execution_count": 25,
   "metadata": {},
   "outputs": [],
   "source": [
    "def generatemixgaussian():\n",
    "#     numpy.random.seed(0x5eed)\n",
    "    mean=[0,1]\n",
    "    var=0.2\n",
    "    y=list()\n",
    "    for i in range(10000):\n",
    "        sample=np.random.choice(2,1,p=[0.5,0.5])\n",
    "        y.append(stats.norm.rvs(mean[sample[0]],var))\n",
    "    y=np.array(y)\n",
    "    x_eval = np.linspace(y.min(), y.max(), 400)\n",
    "    bimodal_pdf = stats.norm.pdf(x_eval, loc=mean[0], scale=var)*0.5 + stats.norm.pdf(x_eval, loc=mean[1], scale=var) *0.5\n",
    "    plt.plot(x_eval, bimodal_pdf, 'r--', label=\"Actual PDF\")\n",
    "    plt.hist(y, density=True, bins=20)\n",
    "    plt.title(\"small mean: 0;large mean 1;var in both=0.2\")\n",
    "    plt.savefig('mixgaussian.png',bbox='tight')\n",
    "    plt.show()\n",
    "    return np.array(y)"
   ]
  },
  {
   "cell_type": "code",
   "execution_count": 26,
   "metadata": {},
   "outputs": [
    {
     "name": "stderr",
     "output_type": "stream",
     "text": [
      "/tmp/ipykernel_411088/2862977820.py:15: MatplotlibDeprecationWarning: savefig() got unexpected keyword argument \"bbox\" which is no longer supported as of 3.3 and will become an error in 3.6\n",
      "  plt.savefig('mixgaussian.png',bbox='tight')\n"
     ]
    },
    {
     "data": {
      "image/png": "[encoded data removed]",
      "text/plain": [
       "<Figure size 432x288 with 1 Axes>"
      ]
     },
     "metadata": {
      "needs_background": "light"
     },
     "output_type": "display_data"
    }
   ],
   "source": [
    "mixmodel=generatemixgaussian()"
   ]
  },
  {
   "cell_type": "code",
   "execution_count": 27,
   "metadata": {},
   "outputs": [
    {
     "name": "stdout",
     "output_type": "stream",
     "text": [
      "Average success over 100 iterations: 7.63\n"
     ]
    }
   ],
   "source": [
    "success_sum = 0\n",
    "num_iter = 100\n",
    "\n",
    "for i in range(num_iter):\n",
    "    schedule = np.column_stack((np.sort(np.round(rand.random(N_ITEMS) * ENCODING_TIME)), np.arange(N_ITEMS)))\n",
    "    schedule_load = ENCODING_TIME / np.median(np.diff(schedule[:, 0]))\n",
    "    encoding = np.zeros((N_ITEMS, N_WORLD_FEATURES + 1))\n",
    "\n",
    "    world_m = np.array([1, 2, 1, 2, 3], dtype=float)\n",
    "    world_var = 1\n",
    "    # delta = 0.05\n",
    "    beta_param = 0.001\n",
    "    m = 0\n",
    "\n",
    "    for time in range(ENCODING_TIME):\n",
    "        delta = rand.choice(mixmodel)\n",
    "        world_m += delta\n",
    "        world = rand.normal(world_m, world_var)\n",
    "        if m < N_ITEMS:\n",
    "            if time == schedule[m, 0]:\n",
    "                encoding[m, :] = np.append(world, m)\n",
    "                m += 1\n",
    "\n",
    "    out = np.zeros(TEST_TIME)\n",
    "    while time < ENCODING_TIME + TEST_TIME:\n",
    "        delta = rand.choice(mixmodel)\n",
    "        world_m += delta\n",
    "        world = rand.normal(world_m, world_var)\n",
    "        soa = np.zeros(N_ITEMS)\n",
    "        for m in range(N_ITEMS):\n",
    "            soa[m] = np.dot(encoding[m], np.append(world, m))\n",
    "        soa /= np.linalg.norm(soa)\n",
    "        out[time - ENCODING_TIME] = np.where(draw_from_a_dist(soa) > 0)[0]\n",
    "        time += 1\n",
    "\n",
    "    success = len(np.unique(out))\n",
    "    success_sum += success\n",
    "\n",
    "avg_success = success_sum / num_iter\n",
    "print(f'Average success over {num_iter} iterations: {avg_success}')"
   ]
  },
  {
   "cell_type": "markdown",
   "metadata": {},
   "source": [
    "Hence, our model is able to retrieve effectively even when the world contains context changes. "
   ]
  },
  {
   "cell_type": "markdown",
   "metadata": {},
   "source": [
    "### Part 3: 50 marks\n",
    "\n",
    "Do the same thing, but this time assuming that the retrieving agent does not know the parameters of the world generating model, just the fact that the rate of drift is sampled from a bimodal distribution. Hint: you'll have to have the agent learn the drift distribution parameters. EM is your friend here. "
   ]
  }
 ],
 "metadata": {
  "interpreter": {
   "hash": "27f98c3cd29bdbbbcf21e34becd61d5d6f13f7e1fe4b4cefd3f8a1ca844857c7"
  },
  "kernelspec": {
   "display_name": "Python 3.9.10 ('cocosci')",
   "language": "python",
   "name": "python3"
  },
  "language_info": {
   "codemirror_mode": {
    "name": "ipython",
    "version": 3
   },
   "file_extension": ".py",
   "mimetype": "text/x-python",
   "name": "python",
   "nbconvert_exporter": "python",
   "pygments_lexer": "ipython3",
   "version": "3.9.10"
  },
  "orig_nbformat": 4
 },
 "nbformat": 4,
 "nbformat_minor": 2
}
