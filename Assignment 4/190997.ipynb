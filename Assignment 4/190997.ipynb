{
 "cells": [
  {
   "cell_type": "markdown",
   "metadata": {},
   "source": [
    "# Assignment 4\n",
    "\n",
    "\\- Yash Gupta (190997)"
   ]
  },
  {
   "cell_type": "markdown",
   "metadata": {},
   "source": [
    "I am giving you a dataset that contains 70 judgments a subject has made about the size of hypothetical people based on their weight (in kilos) and height (in inches). The subject has categorized people into three categories - small, average and large. \n",
    "\n",
    "The dataset data.csv contains the 70 actual judgments made by the subject as a 70x3 matrix. The first column contains weights, the second contains heights. The third column contains the category label assigned by the subject (small = 1, average = 2, large = 3). \n",
    "\n",
    "I am also giving you a test set test.csv of 10 more weight-height combinations as a 10x2 matrix (same column interpretations). I want you to tell me what a generalized context model would predict this subjects' category labels to be, assuming  \n",
    "(i) he is polite, and is far more likely to call someone big average than large  \n",
    "(ii) He is more likely to use weight than height to make category judgments about size."
   ]
  },
  {
   "cell_type": "markdown",
   "id": "secure-barbados",
   "metadata": {},
   "source": [
    "### Q1. (30 points)\n",
    "\n",
    "Implement a GCM encoding these assumptions and give me quantitative predictions on the test set. Submit both code and category responses for the data points. "
   ]
  },
  {
   "cell_type": "markdown",
   "id": "secure-barbados",
   "metadata": {},
   "source": [
    "### Q2. (40 points)\n",
    "\n",
    "I am also sharing with you, John McDonnell's python implementation of Anderson's Rational Model of Categorization (rational.py). Modify the code to obtain category predictions for the data I have shared with you. "
   ]
  },
  {
   "cell_type": "markdown",
   "id": "secure-barbados",
   "metadata": {},
   "source": [
    "### Q3. (30 points)\n",
    "\n",
    "For both GCM and RMC, show empirically using the dataset I've shared that both models assume exchangeability of data, viz. the order in which data enters the model does not affect the category labels of the model for any given subset of data. "
   ]
  },
  {
   "cell_type": "code",
   "execution_count": null,
   "metadata": {},
   "outputs": [],
   "source": []
  }
 ],
 "metadata": {
  "interpreter": {
   "hash": "27f98c3cd29bdbbbcf21e34becd61d5d6f13f7e1fe4b4cefd3f8a1ca844857c7"
  },
  "kernelspec": {
   "display_name": "Python 3.9.10 ('cocosci')",
   "language": "python",
   "name": "python3"
  },
  "language_info": {
   "name": "python",
   "version": "3.9.10"
  },
  "orig_nbformat": 4
 },
 "nbformat": 4,
 "nbformat_minor": 2
}
